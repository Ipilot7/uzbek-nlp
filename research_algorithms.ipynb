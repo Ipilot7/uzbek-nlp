{
  "cells": [
    {
      "cell_type": "code",
      "execution_count": 1,
      "metadata": {},
      "outputs": [
        {
          "name": "stdout",
          "output_type": "stream",
          "text": [
            "Collecting numpy==1.24.4\n",
            "  Downloading numpy-1.24.4-cp39-cp39-macosx_10_9_x86_64.whl (19.8 MB)\n",
            "\u001b[K     |████████████████████████████████| 19.8 MB 498 kB/s eta 0:00:01\n",
            "\u001b[?25hCollecting gensim==4.3.0\n",
            "  Downloading gensim-4.3.0-cp39-cp39-macosx_10_9_x86_64.whl (24.0 MB)\n",
            "\u001b[K     |████████████████████████████████| 24.0 MB 1.3 MB/s eta 0:00:01\n",
            "\u001b[?25hRequirement already satisfied: scipy>=1.7.0 in ./venv/lib/python3.9/site-packages (from gensim==4.3.0) (1.13.1)\n",
            "Collecting smart-open>=1.8.1\n",
            "  Downloading smart_open-7.1.0-py3-none-any.whl (61 kB)\n",
            "\u001b[K     |████████████████████████████████| 61 kB 262 kB/s eta 0:00:01\n",
            "\u001b[?25hCollecting FuzzyTM>=0.4.0\n",
            "  Downloading FuzzyTM-2.0.9-py3-none-any.whl (31 kB)\n",
            "Requirement already satisfied: pandas in ./venv/lib/python3.9/site-packages (from FuzzyTM>=0.4.0->gensim==4.3.0) (2.2.3)\n",
            "Collecting pyfume\n",
            "  Downloading pyFUME-0.3.4-py3-none-any.whl (60 kB)\n",
            "\u001b[K     |████████████████████████████████| 60 kB 6.8 MB/s  eta 0:00:01\n",
            "\u001b[?25hCollecting wrapt\n",
            "  Downloading wrapt-1.17.2-cp39-cp39-macosx_10_9_x86_64.whl (38 kB)\n",
            "Requirement already satisfied: python-dateutil>=2.8.2 in ./venv/lib/python3.9/site-packages (from pandas->FuzzyTM>=0.4.0->gensim==4.3.0) (2.9.0.post0)\n",
            "Requirement already satisfied: tzdata>=2022.7 in ./venv/lib/python3.9/site-packages (from pandas->FuzzyTM>=0.4.0->gensim==4.3.0) (2025.2)\n",
            "Requirement already satisfied: pytz>=2020.1 in ./venv/lib/python3.9/site-packages (from pandas->FuzzyTM>=0.4.0->gensim==4.3.0) (2025.2)\n",
            "Requirement already satisfied: six>=1.5 in ./venv/lib/python3.9/site-packages (from python-dateutil>=2.8.2->pandas->FuzzyTM>=0.4.0->gensim==4.3.0) (1.17.0)\n",
            "Collecting simpful==2.12.0\n",
            "  Downloading simpful-2.12.0-py3-none-any.whl (24 kB)\n",
            "Collecting scipy>=1.7.0\n",
            "  Downloading scipy-1.10.1-cp39-cp39-macosx_10_9_x86_64.whl (35.2 MB)\n",
            "\u001b[K     |████████████████████████████████| 35.2 MB 132 kB/s eta 0:00:01\n",
            "\u001b[?25hCollecting pandas\n",
            "  Downloading pandas-1.5.3-cp39-cp39-macosx_10_9_x86_64.whl (12.0 MB)\n",
            "\u001b[K     |████████████████████████████████| 12.0 MB 1.0 MB/s eta 0:00:01\n",
            "\u001b[?25hCollecting fst-pso==1.8.1\n",
            "  Using cached fst_pso-1.8.1-py3-none-any.whl\n",
            "Collecting miniful\n",
            "  Using cached miniful-0.0.6-py3-none-any.whl\n",
            "Installing collected packages: numpy, scipy, miniful, simpful, pandas, fst-pso, wrapt, pyfume, smart-open, FuzzyTM, gensim\n",
            "  Attempting uninstall: numpy\n",
            "    Found existing installation: numpy 1.26.0\n",
            "    Uninstalling numpy-1.26.0:\n",
            "      Successfully uninstalled numpy-1.26.0\n",
            "  Attempting uninstall: scipy\n",
            "    Found existing installation: scipy 1.13.1\n",
            "    Uninstalling scipy-1.13.1:\n",
            "      Successfully uninstalled scipy-1.13.1\n",
            "  Attempting uninstall: pandas\n",
            "    Found existing installation: pandas 2.2.3\n",
            "    Uninstalling pandas-2.2.3:\n",
            "      Successfully uninstalled pandas-2.2.3\n",
            "Successfully installed FuzzyTM-2.0.9 fst-pso-1.8.1 gensim-4.3.0 miniful-0.0.6 numpy-1.24.4 pandas-1.5.3 pyfume-0.3.4 scipy-1.10.1 simpful-2.12.0 smart-open-7.1.0 wrapt-1.17.2\n",
            "Note: you may need to restart the kernel to use updated packages.\n"
          ]
        }
      ],
      "source": [
        "pip install numpy==1.24.4 gensim==4.3.0"
      ]
    },
    {
      "cell_type": "markdown",
      "metadata": {
        "id": "58NSHvuxH6ni"
      },
      "source": [
        "# Классификация эмоциональной окраски узбекских текстов (0–5)\n",
        "# 1. Загрузка данных"
      ]
    },
    {
      "cell_type": "code",
      "execution_count": 2,
      "metadata": {
        "colab": {
          "base_uri": "https://localhost:8080/"
        },
        "id": "uazYds7O4qXK",
        "outputId": "75c929bd-8116-415e-e32b-27b11c484c39"
      },
      "outputs": [
        {
          "name": "stdout",
          "output_type": "stream",
          "text": [
            "Обучающая выборка: 16000 примеров, Валидационная выборка: 2000 примеров\n",
            "Пример обучающего текста: Men o'zimni kamsitilgan his qilmadim\n",
            "Его метка класса: 0\n"
          ]
        }
      ],
      "source": [
        "import pandas as pd\n",
        "\n",
        "# Загрузка обучающего и валидационного датасетов\n",
        "train_df = pd.read_csv(\"data/raw/train.csv\")\n",
        "val_df = pd.read_csv(\"data/raw/validation.csv\")\n",
        "\n",
        "# Разделяем тексты и метки классов\n",
        "X_train_texts = train_df['uzbek_text'].astype(str)   # узбекские тексты обучающей выборки\n",
        "y_train = train_df['label'].values                  # метки (0–5) для обучающей выборки\n",
        "X_val_texts = val_df['uzbek_text'].astype(str)       # узбекские тексты валидационной выборки\n",
        "y_val = val_df['label'].values                      # истинные метки для валидационной выборки\n",
        "\n",
        "# Проверяем размеры наборов данных\n",
        "print(f\"Обучающая выборка: {len(X_train_texts)} примеров, Валидационная выборка: {len(X_val_texts)} примеров\")\n",
        "print(\"Пример обучающего текста:\", X_train_texts.iloc[0])\n",
        "print(\"Его метка класса:\", y_train[0])\n"
      ]
    },
    {
      "cell_type": "markdown",
      "metadata": {
        "id": "a1DaIUAMImGk"
      },
      "source": [
        "# 2. Загрузка списка стоп-слов"
      ]
    },
    {
      "cell_type": "code",
      "execution_count": 3,
      "metadata": {
        "colab": {
          "base_uri": "https://localhost:8080/"
        },
        "id": "csSAHPbK4rnl",
        "outputId": "d62ab33d-3f08-457f-a96f-222868203606"
      },
      "outputs": [
        {
          "name": "stdout",
          "output_type": "stream",
          "text": [
            "Загружено 5270 узбекских стоп-слов.\n",
            "Примеры стоп-слов: [\"g'idi-bidi\", 'fotih', \"to'plamga\", 'xokisorona', 'avqot', 'boshlanmasi', \"to'lg'amo\", 'chirmamoq', 'sallali', 'dardisar']\n"
          ]
        }
      ],
      "source": [
        "# Загрузка стоп-слов из файла\n",
        "def load_stopwords(file_path):\n",
        "    stopwords = set()\n",
        "    with open(file_path, 'r', encoding='utf-8') as file:\n",
        "        for line in file:\n",
        "            line = line.strip()\n",
        "            if not line:\n",
        "                continue\n",
        "            # Пробуем сначала разделить по табуляции\n",
        "            if '\\t' in line:\n",
        "                parts = line.split('\\t')\n",
        "                word = parts[-1].strip()\n",
        "            else:\n",
        "                # Альтернативно: удаляем номер перед словом (если есть точка)\n",
        "                word = line.split('.', 1)[-1].strip()\n",
        "            if word:\n",
        "                stopwords.add(word)\n",
        "    return stopwords\n",
        "\n",
        "# Пример использования\n",
        "uz_stopwords = load_stopwords('data/uzbek_stopwords/stopwords_unigrams.txt')\n",
        "\n",
        "print(f\"Загружено {len(uz_stopwords)} узбекских стоп-слов.\")\n",
        "# Выведем несколько для примера\n",
        "print(\"Примеры стоп-слов:\", list(uz_stopwords)[:10])\n"
      ]
    },
    {
      "cell_type": "markdown",
      "metadata": {
        "id": "nbL4k2oEIsZn"
      },
      "source": [
        "# 3. Предобработка текста.\n",
        "#### Предобработка выполняет стандартные шаги: тексты приводятся к нижнему регистру, ненужные символы (цифры, знаки препинания, эмодзи и пр.) удаляются, текст разбивается на слова (токены), из которых затем исключаются распространённые узбекские стоп-слова. В результате остаются значимые слова, которые будут использоваться в качестве признаков."
      ]
    },
    {
      "cell_type": "code",
      "execution_count": 4,
      "metadata": {
        "colab": {
          "base_uri": "https://localhost:8080/"
        },
        "id": "WoEOMRCN4ugE",
        "outputId": "233cb28f-f3fc-4fc8-c9df-688262fa9dc3"
      },
      "outputs": [
        {
          "name": "stdout",
          "output_type": "stream",
          "text": [
            "Исходный текст: Men juda qayg'uli va o'zim uchun afsusdaman, lekin 😢\n",
            "После предобработки: [\"qayg'uli\", \"o'zim\", 'afsusdaman', 'lekin']\n"
          ]
        }
      ],
      "source": [
        "import re\n",
        "\n",
        "# Функция предобработки для одного текста\n",
        "def preprocess_text(text):\n",
        "    # 1. Приведение текста к нижнему регистру\n",
        "    text = text.lower()\n",
        "    # 2. Замена вариантов апострофа на единый символ (например, U+2018, U+2019, U+02BB -> ')\n",
        "    text = text.replace(\"\\u2018\", \"'\").replace(\"\\u2019\", \"'\").replace(\"\\u02bb\", \"'\").replace(\"\\u02bc\", \"'\")\n",
        "    # 3. Удаление лишних символов: оставляем только буквы, пробелы и апострофы, остальные символы заменяем на пробел\n",
        "    cleaned_chars = []\n",
        "    for ch in text:\n",
        "        if ch.isalpha() or ch == \"'\" or ch.isspace():\n",
        "            cleaned_chars.append(ch)\n",
        "        else:\n",
        "            cleaned_chars.append(\" \")\n",
        "    text = \"\".join(cleaned_chars)\n",
        "    # 4. Токенизация: разделяем текст по пробелам на слова\n",
        "    tokens = text.split()\n",
        "    # 5. Удаление стоп-слов и очень коротких токенов\n",
        "    tokens = [tok for tok in tokens if tok not in uz_stopwords and len(tok) > 0]\n",
        "    return tokens\n",
        "\n",
        "# Пример предобработки на одном предложении\n",
        "sample_text = \"Men juda qayg'uli va o'zim uchun afsusdaman, lekin 😢\"\n",
        "print(\"Исходный текст:\", sample_text)\n",
        "print(\"После предобработки:\", preprocess_text(sample_text))\n"
      ]
    },
    {
      "cell_type": "markdown",
      "metadata": {
        "id": "_61bYvYNKoFR"
      },
      "source": [
        "# 4. Создание признакового представления (Bag of Words, TF-IDF, Word2Vec)\n",
        "#### Мы получили две разреженные матрицы признаков: Bag-of-Words (частотное представление слов) и TF-IDF (взвешенное представление). Каждая строка матрицы соответствует тексту, а каждый столбец – определённому слову из словаря. min_df=2 означает, что слова, встречающиеся только один раз, отброшены, чтобы уменьшить шум."
      ]
    },
    {
      "cell_type": "code",
      "execution_count": 5,
      "metadata": {
        "colab": {
          "base_uri": "https://localhost:8080/"
        },
        "id": "Zaq1orFO4w8R",
        "outputId": "c6191a1e-15ff-42cb-8a82-a555e44ff742"
      },
      "outputs": [
        {
          "name": "stdout",
          "output_type": "stream",
          "text": [
            "Размерность Bag-of-Words матрицы: (16000, 10412) (образцы x признаки)\n",
            "Размерность TF-IDF матрицы: (16000, 10412)\n",
            "Пример признака: a\n"
          ]
        }
      ],
      "source": [
        "from sklearn.feature_extraction.text import CountVectorizer, TfidfVectorizer\n",
        "\n",
        "# Создаем CountVectorizer для Bag-of-Words и TfidfVectorizer для TF-IDF.\n",
        "# Используем нашу функцию preprocess_text как анализатор, чтобы применять ту же токенизацию и очистку.\n",
        "count_vectorizer = CountVectorizer(analyzer=preprocess_text, min_df=2)\n",
        "tfidf_vectorizer = TfidfVectorizer(analyzer=preprocess_text, min_df=2)\n",
        "\n",
        "# Обучаем словарь (vocabulary) на обучающих данных и сразу трансформируем обучающие и валидационные тексты\n",
        "X_train_bow = count_vectorizer.fit_transform(X_train_texts)\n",
        "X_val_bow = count_vectorizer.transform(X_val_texts)\n",
        "X_train_tfidf = tfidf_vectorizer.fit_transform(X_train_texts)\n",
        "X_val_tfidf = tfidf_vectorizer.transform(X_val_texts)\n",
        "\n",
        "print(\"Размерность Bag-of-Words матрицы:\", X_train_bow.shape, \"(образцы x признаки)\")\n",
        "print(\"Размерность TF-IDF матрицы:\", X_train_tfidf.shape)\n",
        "# Пример признаков:\n",
        "feature_names = count_vectorizer.get_feature_names_out()\n",
        "print(\"Пример признака:\", feature_names[0])"
      ]
    },
    {
      "cell_type": "markdown",
      "metadata": {
        "id": "w2oHTLsMLBeW"
      },
      "source": [
        "#### Мы также обучили Word2Vec-модель на обучающих текстах, чтобы получить плотные векторные представления слов (word embeddings). Затем для каждого текста вычисляется средний вектор по всем словам в тексте. Этот подход дает фиксированный вектор признаков (размерностью 100) для каждого текста, который можно использовать в моделях."
      ]
    },
    {
      "cell_type": "code",
      "execution_count": 6,
      "metadata": {
        "colab": {
          "base_uri": "https://localhost:8080/"
        },
        "id": "vIna2sws495-",
        "outputId": "58bb4415-9667-45ac-ae2c-559fffd8b719"
      },
      "outputs": [
        {
          "name": "stderr",
          "output_type": "stream",
          "text": [
            "/Users/ipilot7/Documents/univer/uzbek-nlp/venv/lib/python3.9/site-packages/urllib3/__init__.py:35: NotOpenSSLWarning: urllib3 v2 only supports OpenSSL 1.1.1+, currently the 'ssl' module is compiled with 'LibreSSL 2.8.3'. See: https://github.com/urllib3/urllib3/issues/3020\n",
            "  warnings.warn(\n"
          ]
        },
        {
          "name": "stdout",
          "output_type": "stream",
          "text": [
            "Размер словаря Word2Vec: 10537\n",
            "Пример вектора слова 'qayg'uli': [-0.13144927  0.32088932  0.154033    0.14616074 -0.06548019 -0.5250388\n",
            "  0.1391652   0.69542134 -0.20293224 -0.17842494 -0.08739393 -0.457594\n",
            " -0.01924376  0.12424114  0.04851298 -0.26855114  0.18389434 -0.24682115\n",
            " -0.07686552 -0.63376844  0.1940609   0.1767055   0.18629171 -0.23433688\n",
            " -0.06058879  0.0189956  -0.22348744 -0.06961793 -0.3830442  -0.1154327\n",
            "  0.11195157 -0.01608525  0.03218083 -0.25279796 -0.13433021  0.33842915\n",
            "  0.25722387 -0.28723583 -0.08018503 -0.45352873  0.15304253 -0.34534624\n",
            " -0.2193955   0.00163649  0.32239446 -0.03685091 -0.22914267  0.08410483\n",
            "  0.08980039  0.30161497 -0.05756612 -0.15182823 -0.02565793 -0.13901083\n",
            " -0.13774362  0.02988564  0.20745444 -0.09817462 -0.25713047  0.19886091\n",
            " -0.00978443  0.03594438 -0.00484467 -0.11009264 -0.2707948   0.29689056\n",
            "  0.10561647  0.31884176 -0.3587454   0.28013065 -0.08127914  0.24416512\n",
            "  0.29215795 -0.08721954  0.20812029  0.16300064 -0.03623855 -0.0427132\n",
            " -0.39762914 -0.08033802 -0.30842158  0.06412806 -0.12758407  0.26183924\n",
            " -0.16428071 -0.02331186  0.02866812  0.29638433  0.5048152   0.1880264\n",
            "  0.09167958  0.09971438  0.14234708 -0.02780103  0.54084724  0.17682731\n",
            "  0.08949344 -0.32477     0.09284771  0.05757531]\n",
            "Размерность матрицы средних Word2Vec-векторов: (16000, 100)\n",
            "Пример усреднённого вектора для первого текста: [-0.20372608  0.45292482  0.17049581  0.5066154  -0.21614859] ...\n"
          ]
        }
      ],
      "source": [
        "# Обучение модели Word2Vec на корпусе обучающих текстов (после предобработки)\n",
        "from gensim.models import Word2Vec\n",
        "\n",
        "# Получаем списки токенов для каждого текста обучающей выборки\n",
        "train_tokens = [preprocess_text(text) for text in X_train_texts]\n",
        "val_tokens = [preprocess_text(text) for text in X_val_texts]\n",
        "\n",
        "# Обучаем Word2Vec на списках токенов (используем sg=0 для CBOW или sg=1 для Skip-gram; здесь CBOW)\n",
        "w2v_model = Word2Vec(sentences=train_tokens, vector_size=100, window=5, min_count=2, workers=4, sg=0)\n",
        "print(\"Размер словаря Word2Vec:\", len(w2v_model.wv))\n",
        "print(\"Пример вектора слова 'qayg'uli':\", w2v_model.wv[\"qayg'uli\"])\n",
        "\n",
        "# Представляем каждый текст усреднением векторов его слов\n",
        "import numpy as np\n",
        "def text_vector_avg(tokens):\n",
        "    # Берем векторы только тех слов, которые есть в модели w2v\n",
        "    vectors = [w2v_model.wv[word] for word in tokens if word in w2v_model.wv]\n",
        "    if len(vectors) > 0:\n",
        "        return np.mean(vectors, axis=0)\n",
        "    else:\n",
        "        return np.zeros(w2v_model.vector_size)\n",
        "\n",
        "X_train_w2v = np.array([text_vector_avg(tokens) for tokens in train_tokens])\n",
        "X_val_w2v   = np.array([text_vector_avg(tokens) for tokens in val_tokens])\n",
        "\n",
        "print(\"Размерность матрицы средних Word2Vec-векторов:\", X_train_w2v.shape)\n",
        "print(\"Пример усреднённого вектора для первого текста:\", X_train_w2v[0][:5], \"...\")\n"
      ]
    },
    {
      "cell_type": "markdown",
      "metadata": {
        "id": "vyEB4XvBLPDp"
      },
      "source": [
        "# 5. Обучение и оценка моделей\n",
        "\n",
        "#### Теперь обучим несколько моделей машинного обучения на полученных признаках. Для каждой модели будем оценивать качество на валидационной выборке с помощью Accuracy и macro-F1 меры (усреднённой F1 по всем классам).\n",
        "\n",
        "# 5.1 Multinomial Naive Bayes"
      ]
    },
    {
      "cell_type": "code",
      "execution_count": 7,
      "metadata": {
        "colab": {
          "base_uri": "https://localhost:8080/"
        },
        "id": "zrs-v_315FJG",
        "outputId": "c4269412-c966-4572-cff1-1f077e7a2ad4"
      },
      "outputs": [
        {
          "name": "stdout",
          "output_type": "stream",
          "text": [
            "Naive Bayes Accuracy: 0.6335, Macro-F1: 0.5162\n"
          ]
        }
      ],
      "source": [
        "from sklearn.naive_bayes import MultinomialNB\n",
        "from sklearn.metrics import accuracy_score, f1_score\n",
        "\n",
        "# Обучение мультиномиального Наивного Байеса на Bag-of-Words признаках\n",
        "nb_clf = MultinomialNB()\n",
        "nb_clf.fit(X_train_bow, y_train)\n",
        "\n",
        "# Предсказания на валидационной выборке\n",
        "y_pred_nb = nb_clf.predict(X_val_bow)\n",
        "\n",
        "# Оценка качества\n",
        "acc_nb = accuracy_score(y_val, y_pred_nb)\n",
        "f1_nb = f1_score(y_val, y_pred_nb, average='macro')\n",
        "print(f\"Naive Bayes Accuracy: {acc_nb:.4f}, Macro-F1: {f1_nb:.4f}\")\n"
      ]
    },
    {
      "cell_type": "markdown",
      "metadata": {
        "id": "yb67uFBPLs9E"
      },
      "source": [
        "#### Наивный Байес хорошо подходит для Bag-of-Words представления. Однако при дисбалансе классов модель будет склонна предсказывать более частые классы. (Можно было бы откорректировать априорные вероятности или веса классов.)"
      ]
    },
    {
      "cell_type": "markdown",
      "metadata": {
        "id": "Zh6thiW1Lwmt"
      },
      "source": [
        "# 5.2 Логистическая регрессия (GridSearchCV)"
      ]
    },
    {
      "cell_type": "code",
      "execution_count": 8,
      "metadata": {
        "colab": {
          "base_uri": "https://localhost:8080/"
        },
        "id": "Q9pClYM55IG7",
        "outputId": "614a2db3-5b93-4959-ea0a-96191d97f9dc"
      },
      "outputs": [
        {
          "name": "stderr",
          "output_type": "stream",
          "text": [
            "/Users/ipilot7/Documents/univer/uzbek-nlp/venv/lib/python3.9/site-packages/sklearn/linear_model/_logistic.py:1247: FutureWarning: 'multi_class' was deprecated in version 1.5 and will be removed in 1.7. From then on, it will always use 'multinomial'. Leave it to its default value to avoid this warning.\n",
            "  warnings.warn(\n",
            "/Users/ipilot7/Documents/univer/uzbek-nlp/venv/lib/python3.9/site-packages/sklearn/linear_model/_logistic.py:1247: FutureWarning: 'multi_class' was deprecated in version 1.5 and will be removed in 1.7. From then on, it will always use 'multinomial'. Leave it to its default value to avoid this warning.\n",
            "  warnings.warn(\n",
            "/Users/ipilot7/Documents/univer/uzbek-nlp/venv/lib/python3.9/site-packages/sklearn/linear_model/_logistic.py:1247: FutureWarning: 'multi_class' was deprecated in version 1.5 and will be removed in 1.7. From then on, it will always use 'multinomial'. Leave it to its default value to avoid this warning.\n",
            "  warnings.warn(\n",
            "/Users/ipilot7/Documents/univer/uzbek-nlp/venv/lib/python3.9/site-packages/sklearn/linear_model/_logistic.py:1247: FutureWarning: 'multi_class' was deprecated in version 1.5 and will be removed in 1.7. From then on, it will always use 'multinomial'. Leave it to its default value to avoid this warning.\n",
            "  warnings.warn(\n",
            "/Users/ipilot7/Documents/univer/uzbek-nlp/venv/lib/python3.9/site-packages/sklearn/linear_model/_logistic.py:1247: FutureWarning: 'multi_class' was deprecated in version 1.5 and will be removed in 1.7. From then on, it will always use 'multinomial'. Leave it to its default value to avoid this warning.\n",
            "  warnings.warn(\n",
            "/Users/ipilot7/Documents/univer/uzbek-nlp/venv/lib/python3.9/site-packages/sklearn/linear_model/_logistic.py:1247: FutureWarning: 'multi_class' was deprecated in version 1.5 and will be removed in 1.7. From then on, it will always use 'multinomial'. Leave it to its default value to avoid this warning.\n",
            "  warnings.warn(\n",
            "/Users/ipilot7/Documents/univer/uzbek-nlp/venv/lib/python3.9/site-packages/sklearn/linear_model/_logistic.py:1247: FutureWarning: 'multi_class' was deprecated in version 1.5 and will be removed in 1.7. From then on, it will always use 'multinomial'. Leave it to its default value to avoid this warning.\n",
            "  warnings.warn(\n",
            "/Users/ipilot7/Documents/univer/uzbek-nlp/venv/lib/python3.9/site-packages/sklearn/linear_model/_logistic.py:1247: FutureWarning: 'multi_class' was deprecated in version 1.5 and will be removed in 1.7. From then on, it will always use 'multinomial'. Leave it to its default value to avoid this warning.\n",
            "  warnings.warn(\n",
            "/Users/ipilot7/Documents/univer/uzbek-nlp/venv/lib/python3.9/site-packages/sklearn/linear_model/_logistic.py:1247: FutureWarning: 'multi_class' was deprecated in version 1.5 and will be removed in 1.7. From then on, it will always use 'multinomial'. Leave it to its default value to avoid this warning.\n",
            "  warnings.warn(\n",
            "/Users/ipilot7/Documents/univer/uzbek-nlp/venv/lib/python3.9/site-packages/sklearn/linear_model/_logistic.py:1247: FutureWarning: 'multi_class' was deprecated in version 1.5 and will be removed in 1.7. From then on, it will always use 'multinomial'. Leave it to its default value to avoid this warning.\n",
            "  warnings.warn(\n"
          ]
        },
        {
          "name": "stdout",
          "output_type": "stream",
          "text": [
            "Лучший параметр C для логистической регрессии: {'C': 1}\n",
            "Logistic Regression Accuracy: 0.6860, Macro-F1: 0.6529\n"
          ]
        }
      ],
      "source": [
        "from sklearn.linear_model import LogisticRegression\n",
        "from sklearn.model_selection import GridSearchCV\n",
        "\n",
        "# Логистическая регрессия на TF-IDF признаках.\n",
        "# Учтем дисбаланс классов через class_weight='balanced'.\n",
        "log_reg = LogisticRegression(class_weight='balanced', solver='liblinear', multi_class='auto', max_iter=300)\n",
        "\n",
        "# Подбор гиперпараметра C (степень регуляризации) с помощью кросс-валидации (GridSearchCV)\n",
        "param_grid = {'C': [0.1, 1, 10]}\n",
        "grid_log_reg = GridSearchCV(log_reg, param_grid, cv=3, scoring='f1_macro', refit=True)\n",
        "grid_log_reg.fit(X_train_tfidf, y_train)\n",
        "\n",
        "print(\"Лучший параметр C для логистической регрессии:\", grid_log_reg.best_params_)\n",
        "best_log_reg = grid_log_reg.best_estimator_  # модель с лучшим C, уже обученная на всём train\n",
        "\n",
        "# Оценка лучшей модели на валидации\n",
        "y_pred_log = best_log_reg.predict(X_val_tfidf)\n",
        "acc_log = accuracy_score(y_val, y_pred_log)\n",
        "f1_log = f1_score(y_val, y_pred_log, average='macro')\n",
        "print(f\"Logistic Regression Accuracy: {acc_log:.4f}, Macro-F1: {f1_log:.4f}\")\n"
      ]
    },
    {
      "cell_type": "markdown",
      "metadata": {
        "id": "hhw3Nc9GL9mB"
      },
      "source": [
        " #### Логистическая регрессия – мощный линейный метод для классификации. Мы используем GridSearchCV, чтобы найти оптимальный коэффициент регуляризации C. Кроме того, class_weight='balanced' автоматически взвешивает классы обратно пропорционально их частоте, чтобы снизить влияние дисбаланса (реже встречающиеся классы получат больший вес при обучении). После подбора гиперпараметров модель оценивается на валидационной выборке."
      ]
    },
    {
      "cell_type": "markdown",
      "metadata": {
        "id": "y9GTYqxLMDXD"
      },
      "source": [
        "# 5.3 Линейный SVM (Support Vector Machine)"
      ]
    },
    {
      "cell_type": "code",
      "execution_count": 9,
      "metadata": {
        "colab": {
          "base_uri": "https://localhost:8080/"
        },
        "id": "wUbxkTAj5K0h",
        "outputId": "99b8377b-3378-48b5-e3e1-b891d427d780"
      },
      "outputs": [
        {
          "name": "stdout",
          "output_type": "stream",
          "text": [
            "Лучший параметр C для SVM: {'C': 1}\n",
            "SVM Accuracy: 0.6615, Macro-F1: 0.6254\n"
          ]
        }
      ],
      "source": [
        "from sklearn.svm import SVC\n",
        "\n",
        "# Линейный SVM на TF-IDF признаках, с балансировкой классов\n",
        "svm = SVC(kernel='linear', class_weight='balanced')\n",
        "\n",
        "# Подбор параметра регуляризации C для SVM через GridSearchCV\n",
        "param_grid = {'C': [0.1, 1, 10]}\n",
        "grid_svm = GridSearchCV(svm, param_grid, cv=3, scoring='f1_macro', refit=True)\n",
        "grid_svm.fit(X_train_tfidf, y_train)\n",
        "\n",
        "print(\"Лучший параметр C для SVM:\", grid_svm.best_params_)\n",
        "best_svm = grid_svm.best_estimator_\n",
        "\n",
        "# Оценка SVM на валидации\n",
        "y_pred_svm = best_svm.predict(X_val_tfidf)\n",
        "acc_svm = accuracy_score(y_val, y_pred_svm)\n",
        "f1_svm = f1_score(y_val, y_pred_svm, average='macro')\n",
        "print(f\"SVM Accuracy: {acc_svm:.4f}, Macro-F1: {f1_svm:.4f}\")\n"
      ]
    },
    {
      "cell_type": "markdown",
      "metadata": {
        "id": "WaUtQUARMJfM"
      },
      "source": [
        "#### Мы обучаем Support Vector Machine с линейным ядром. SVM – тоже линейный классификатор, часто хорошо работающий на разреженных текстовых признаках. Используем class_weight='balanced' для учета редких классов и подбираем оптимальное значение C (аналогично логистической регрессии). Линейный SVM обычно дает схожее качество с логистической регрессией на подобных задачах."
      ]
    },
    {
      "cell_type": "markdown",
      "metadata": {
        "id": "-f0h6acTMUFY"
      },
      "source": [
        "# 5.4 Random Forest"
      ]
    },
    {
      "cell_type": "code",
      "execution_count": 10,
      "metadata": {
        "colab": {
          "base_uri": "https://localhost:8080/"
        },
        "id": "ANxQ8iru5N_b",
        "outputId": "497b375d-2a2b-46d2-e81c-7ba179630a9b"
      },
      "outputs": [
        {
          "name": "stdout",
          "output_type": "stream",
          "text": [
            "Random Forest Accuracy: 0.6530, Macro-F1: 0.6084\n"
          ]
        }
      ],
      "source": [
        "from sklearn.ensemble import RandomForestClassifier\n",
        "\n",
        "# Обучение случайного леса на Bag-of-Words признаках\n",
        "rf_clf = RandomForestClassifier(n_estimators=100, class_weight='balanced_subsample', random_state=42)\n",
        "rf_clf.fit(X_train_bow, y_train)\n",
        "\n",
        "y_pred_rf = rf_clf.predict(X_val_bow)\n",
        "acc_rf = accuracy_score(y_val, y_pred_rf)\n",
        "f1_rf = f1_score(y_val, y_pred_rf, average='macro')\n",
        "print(f\"Random Forest Accuracy: {acc_rf:.4f}, Macro-F1: {f1_rf:.4f}\")\n"
      ]
    },
    {
      "cell_type": "markdown",
      "metadata": {
        "id": "J-vCPmJpMZTL"
      },
      "source": [
        "#### Random Forest (ансамбль решающих деревьев) способен моделировать нелинейные зависимости. Мы используем class_weight='balanced_subsample', чтобы при построении каждого дерева бустап-сэмплинг учитывал баланс классов. Деревья автоматически учитывают важность признаков, но на текстовых данных (с тысячами признаков) случайный лес может переобучаться на частые слова."
      ]
    },
    {
      "cell_type": "markdown",
      "metadata": {
        "id": "uMe-gyasMeX8"
      },
      "source": [
        "# 5.5 LightGBM"
      ]
    },
    {
      "cell_type": "code",
      "execution_count": 12,
      "metadata": {},
      "outputs": [
        {
          "name": "stdout",
          "output_type": "stream",
          "text": [
            "Collecting lightgbm\n",
            "  Downloading lightgbm-4.6.0-py3-none-macosx_10_15_x86_64.whl (2.0 MB)\n",
            "\u001b[K     |████████████████████████████████| 2.0 MB 382 kB/s eta 0:00:01\n",
            "\u001b[?25hRequirement already satisfied: scipy in ./venv/lib/python3.9/site-packages (from lightgbm) (1.10.1)\n",
            "Requirement already satisfied: numpy>=1.17.0 in ./venv/lib/python3.9/site-packages (from lightgbm) (1.24.4)\n",
            "Installing collected packages: lightgbm\n",
            "Successfully installed lightgbm-4.6.0\n",
            "Note: you may need to restart the kernel to use updated packages.\n"
          ]
        }
      ],
      "source": [
        "pip install lightgbm\n"
      ]
    },
    {
      "cell_type": "code",
      "execution_count": 13,
      "metadata": {
        "colab": {
          "base_uri": "https://localhost:8080/"
        },
        "id": "r-t1oYS05QZe",
        "outputId": "70406b0e-b789-4388-cd61-dadbecf94f51"
      },
      "outputs": [
        {
          "name": "stdout",
          "output_type": "stream",
          "text": [
            "[LightGBM] [Info] Auto-choosing row-wise multi-threading, the overhead of testing was 0.022971 seconds.\n",
            "You can set `force_row_wise=true` to remove the overhead.\n",
            "And if memory is not enough, you can set `force_col_wise=true`.\n",
            "[LightGBM] [Info] Total Bins 24200\n",
            "[LightGBM] [Info] Number of data points in the train set: 16000, number of used features: 995\n",
            "[LightGBM] [Info] Start training from score -1.791759\n",
            "[LightGBM] [Info] Start training from score -1.791759\n",
            "[LightGBM] [Info] Start training from score -1.791759\n",
            "[LightGBM] [Info] Start training from score -1.791759\n",
            "[LightGBM] [Info] Start training from score -1.791759\n",
            "[LightGBM] [Info] Start training from score -1.791760\n",
            "LightGBM Accuracy: 0.5965, Macro-F1: 0.5579\n"
          ]
        },
        {
          "name": "stderr",
          "output_type": "stream",
          "text": [
            "/Users/ipilot7/Documents/univer/uzbek-nlp/venv/lib/python3.9/site-packages/sklearn/utils/validation.py:2739: UserWarning: X does not have valid feature names, but LGBMClassifier was fitted with feature names\n",
            "  warnings.warn(\n"
          ]
        }
      ],
      "source": [
        "import lightgbm as lgb\n",
        "\n",
        "# Обучение LightGBM на TF-IDF признаках\n",
        "lgbm_clf = lgb.LGBMClassifier(class_weight='balanced', random_state=42)\n",
        "lgbm_clf.fit(X_train_tfidf, y_train)\n",
        "\n",
        "y_pred_lgbm = lgbm_clf.predict(X_val_tfidf)\n",
        "acc_lgbm = accuracy_score(y_val, y_pred_lgbm)\n",
        "f1_lgbm = f1_score(y_val, y_pred_lgbm, average='macro')\n",
        "print(f\"LightGBM Accuracy: {acc_lgbm:.4f}, Macro-F1: {f1_lgbm:.4f}\")\n"
      ]
    },
    {
      "cell_type": "markdown",
      "metadata": {
        "id": "TIcP-cmwMkjO"
      },
      "source": [
        "#### LightGBM – градиентный бустинг на решающих деревьях. Он обычно быстрее классического XGBoost при схожем качестве. Мы также указали class_weight='balanced' для учета дисбаланса. Бустинг может улавливать сложные зависимости между признаками, что полезно при классификации текста (например, сочетания слов), хотя на разреженных данных его нужно тщательно настраивать."
      ]
    },
    {
      "cell_type": "markdown",
      "metadata": {
        "id": "7VaI2opoMpRv"
      },
      "source": [
        "# 5.6 XGBoost"
      ]
    },
    {
      "cell_type": "code",
      "execution_count": 15,
      "metadata": {},
      "outputs": [
        {
          "name": "stdout",
          "output_type": "stream",
          "text": [
            "Collecting xgboost\n",
            "  Downloading xgboost-2.1.4-py3-none-macosx_10_15_x86_64.macosx_11_0_x86_64.macosx_12_0_x86_64.whl (2.1 MB)\n",
            "\u001b[K     |████████████████████████████████| 2.1 MB 412 kB/s eta 0:00:01\n",
            "\u001b[?25hRequirement already satisfied: numpy in ./venv/lib/python3.9/site-packages (from xgboost) (1.24.4)\n",
            "Requirement already satisfied: scipy in ./venv/lib/python3.9/site-packages (from xgboost) (1.10.1)\n",
            "Installing collected packages: xgboost\n",
            "Successfully installed xgboost-2.1.4\n",
            "Note: you may need to restart the kernel to use updated packages.\n"
          ]
        }
      ],
      "source": [
        "pip install xgboost"
      ]
    },
    {
      "cell_type": "code",
      "execution_count": 16,
      "metadata": {
        "colab": {
          "base_uri": "https://localhost:8080/"
        },
        "id": "TR9XKvki5TDE",
        "outputId": "5651c2e6-fcf1-4c6e-d0f5-0933149604f9"
      },
      "outputs": [
        {
          "name": "stderr",
          "output_type": "stream",
          "text": [
            "/Users/ipilot7/Documents/univer/uzbek-nlp/venv/lib/python3.9/site-packages/xgboost/core.py:158: UserWarning: [16:27:50] WARNING: /Users/runner/work/xgboost/xgboost/src/learner.cc:740: \n",
            "Parameters: { \"use_label_encoder\" } are not used.\n",
            "\n",
            "  warnings.warn(smsg, UserWarning)\n"
          ]
        },
        {
          "name": "stdout",
          "output_type": "stream",
          "text": [
            "XGBoost Accuracy: 0.6455, Macro-F1: 0.6241\n"
          ]
        }
      ],
      "source": [
        "import xgboost as xgb\n",
        "\n",
        "# Обучение XGBoost на TF-IDF признаках\n",
        "xgb_clf = xgb.XGBClassifier(objective='multi:softmax', num_class=6, use_label_encoder=False,\n",
        "                            eval_metric='mlogloss', seed=42)\n",
        "# Здесь можно передать sample_weight для балансировки, вычислив веса для каждого класса:\n",
        "# Пример: веса, обратные частотам классов\n",
        "class_weights = {cls: len(y_train)/ (6 * (y_train == cls).sum()) for cls in range(6)}\n",
        "sample_weights = [class_weights[int(label)] for label in y_train]\n",
        "xgb_clf.fit(X_train_tfidf, y_train, sample_weight=sample_weights)\n",
        "\n",
        "y_pred_xgb = xgb_clf.predict(X_val_tfidf)\n",
        "acc_xgb = accuracy_score(y_val, y_pred_xgb)\n",
        "f1_xgb = f1_score(y_val, y_pred_xgb, average='macro')\n",
        "print(f\"XGBoost Accuracy: {acc_xgb:.4f}, Macro-F1: {f1_xgb:.4f}\")\n"
      ]
    },
    {
      "cell_type": "markdown",
      "metadata": {
        "id": "rKmPWB2SMt-w"
      },
      "source": [
        "#### XGBoost – популярный бустинг. Для мультиклассовой задачи мы указали objective='multi:softmax' с num_class=6. Прямого параметра class_weight XGBoost не имеет, но мы продемонстрировали способ задания sample_weight для каждого примера вручную (веса рассчитаны на основе обратной частоты класса). Это тоже помогает модели уделять больше внимания малочисленным классам."
      ]
    },
    {
      "cell_type": "markdown",
      "metadata": {
        "id": "9hGQcKKzM0x8"
      },
      "source": [
        "# 5.7 Нейросеть (MLPClassifier)"
      ]
    },
    {
      "cell_type": "code",
      "execution_count": 17,
      "metadata": {
        "colab": {
          "base_uri": "https://localhost:8080/"
        },
        "id": "IB6y5Wjy5WBY",
        "outputId": "a93d5bbb-e3ca-4d5d-9e7f-a1488ce71248"
      },
      "outputs": [
        {
          "name": "stdout",
          "output_type": "stream",
          "text": [
            "Новая размерность обучающей выборки после oversampling: (32172, 100)\n",
            "MLP Accuracy: 0.2325, Macro-F1: 0.2155\n"
          ]
        },
        {
          "name": "stderr",
          "output_type": "stream",
          "text": [
            "/Users/ipilot7/Documents/univer/uzbek-nlp/venv/lib/python3.9/site-packages/sklearn/neural_network/_multilayer_perceptron.py:691: ConvergenceWarning: Stochastic Optimizer: Maximum iterations (200) reached and the optimization hasn't converged yet.\n",
            "  warnings.warn(\n"
          ]
        }
      ],
      "source": [
        "from sklearn.neural_network import MLPClassifier\n",
        "\n",
        "# Oversampling для устранения дисбаланса классов перед обучением MLP.\n",
        "# (MLPClassifier не имеет параметра class_weight, поэтому дублируем редкие примеры.)\n",
        "class_counts = pd.Series(y_train).value_counts().to_dict()\n",
        "max_count = max(class_counts.values())\n",
        "# Собираем индексы для дополнения выборки редкими классами\n",
        "add_indices = []\n",
        "for cls, count in class_counts.items():\n",
        "    if count < max_count:\n",
        "        # случайно повторяем индексы класса cls до размера max_count\n",
        "        deficit = max_count - count\n",
        "        idx_cls = np.where(y_train == cls)[0]\n",
        "        add_idx = np.random.choice(idx_cls, size=deficit, replace=True)\n",
        "        add_indices.extend(add_idx)\n",
        "# Формируем увеличенную обучающую выборку для MLP\n",
        "X_train_w2v_over = np.vstack([X_train_w2v] + [X_train_w2v[idx] for idx in add_indices])\n",
        "y_train_over = np.concatenate([y_train, y_train[add_indices]])\n",
        "\n",
        "print(\"Новая размерность обучающей выборки после oversampling:\", X_train_w2v_over.shape)\n",
        "\n",
        "# Обучение MLP (Multilayer Perceptron) на усреднённых w2v-векторах\n",
        "mlp_clf = MLPClassifier(hidden_layer_sizes=(100,), activation='relu', max_iter=200, random_state=42)\n",
        "mlp_clf.fit(X_train_w2v_over, y_train_over)\n",
        "\n",
        "y_pred_mlp = mlp_clf.predict(X_val_w2v)\n",
        "acc_mlp = accuracy_score(y_val, y_pred_mlp)\n",
        "f1_mlp = f1_score(y_val, y_pred_mlp, average='macro')\n",
        "print(f\"MLP Accuracy: {acc_mlp:.4f}, Macro-F1: {f1_mlp:.4f}\")\n"
      ]
    },
    {
      "cell_type": "markdown",
      "metadata": {
        "id": "PdG9p5gWNDBe"
      },
      "source": [
        "#### В качестве нейросетевого метода используем MLPClassifier (многослойный перцептрон) из scikit-learn. Мы обучаем его на компактных признаках – средних Word2Vec-векторах. Поскольку MLP не поддерживает параметр class_weight напрямую, мы применили oversampling: дополнительно добавили в обучающую выборку копии текстов из малочисленных классов, чтобы выровнять количество примеров каждого класса. Это снижает перекос в сторону большинства. (Альтернативный подход – использовать sample_weight в методе fit.)\n"
      ]
    },
    {
      "cell_type": "markdown",
      "metadata": {
        "id": "aw1BjQevNHBA"
      },
      "source": [
        "# 6. Сравнение моделей"
      ]
    },
    {
      "cell_type": "code",
      "execution_count": 18,
      "metadata": {
        "colab": {
          "base_uri": "https://localhost:8080/"
        },
        "id": "dMILFSlU5Yfe",
        "outputId": "d914c93b-0f54-4802-e394-bc21d0246338"
      },
      "outputs": [
        {
          "name": "stdout",
          "output_type": "stream",
          "text": [
            "                 Model  Accuracy  Macro-F1\n",
            "0          Naive Bayes    0.6335  0.516167\n",
            "1  Logistic Regression    0.6860  0.652885\n",
            "2           Linear SVM    0.6615  0.625386\n",
            "3        Random Forest    0.6530  0.608388\n",
            "4             LightGBM    0.5965  0.557873\n",
            "5              XGBoost    0.6455  0.624089\n",
            "6                  MLP    0.2325  0.215494\n"
          ]
        }
      ],
      "source": [
        "# Сводная таблица качества моделей на валидации\n",
        "results = pd.DataFrame({\n",
        "    \"Model\": [\"Naive Bayes\", \"Logistic Regression\", \"Linear SVM\", \"Random Forest\", \"LightGBM\", \"XGBoost\", \"MLP\"],\n",
        "    \"Accuracy\": [acc_nb, acc_log, acc_svm, acc_rf, acc_lgbm, acc_xgb, acc_mlp],\n",
        "    \"Macro-F1\": [f1_nb, f1_log, f1_svm, f1_rf, f1_lgbm, f1_xgb, f1_mlp]\n",
        "})\n",
        "print(results)\n"
      ]
    },
    {
      "cell_type": "markdown",
      "metadata": {
        "id": "88wmB6KMNLx7"
      },
      "source": [
        "#### Выше мы вывели точность и macro-F1 для каждой модели. Accuracy показывает долю правильных предсказаний, однако при сильном дисбалансе показателен macro-F1 – среднее F1 по всем классам (важно, чтобы модель хорошо предсказывала и редкие классы тоже)."
      ]
    },
    {
      "cell_type": "markdown",
      "metadata": {
        "id": "qwgNdMLWNUjC"
      },
      "source": [
        "# 7. Лучшая модель и прогноз на валидации"
      ]
    },
    {
      "cell_type": "code",
      "execution_count": 19,
      "metadata": {
        "colab": {
          "base_uri": "https://localhost:8080/"
        },
        "id": "O9qNVJ0-5bRj",
        "outputId": "df7ac73a-cb36-47b2-edf7-56f6ca7dde60"
      },
      "outputs": [
        {
          "name": "stdout",
          "output_type": "stream",
          "text": [
            "Лучшая модель по Macro-F1: Logistic Regression\n",
            "\n",
            "Classification report for best model (Logistic Regression):\n",
            "              precision    recall  f1-score   support\n",
            "\n",
            "           0     0.6906    0.7509    0.7195       550\n",
            "           1     0.7559    0.7301    0.7428       704\n",
            "           2     0.5714    0.6067    0.5886       178\n",
            "           3     0.6420    0.5673    0.6023       275\n",
            "           4     0.6219    0.5896    0.6053       212\n",
            "           5     0.6292    0.6914    0.6588        81\n",
            "\n",
            "    accuracy                         0.6860      2000\n",
            "   macro avg     0.6518    0.6560    0.6529      2000\n",
            "weighted avg     0.6865    0.6860    0.6854      2000\n",
            "\n"
          ]
        }
      ],
      "source": [
        "# Определяем лучшую модель по macro-F1\n",
        "best_idx = results['Macro-F1'].idxmax()\n",
        "best_model_name = results.loc[best_idx, \"Model\"]\n",
        "print(\"Лучшая модель по Macro-F1:\", best_model_name)\n",
        "\n",
        "# Получаем объект лучшей модели из переменных\n",
        "model_dict = {\n",
        "    \"Naive Bayes\": nb_clf,\n",
        "    \"Logistic Regression\": best_log_reg,\n",
        "    \"Linear SVM\": best_svm,\n",
        "    \"Random Forest\": rf_clf,\n",
        "    \"LightGBM\": lgbm_clf,\n",
        "    \"XGBoost\": xgb_clf,\n",
        "    \"MLP\": mlp_clf\n",
        "}\n",
        "best_model = model_dict[best_model_name]\n",
        "\n",
        "# (Если лучшая модель была выбрана после кросс-валидации, она уже обучена на всех train данных.\n",
        "# Если нет – убеждаемся, что она обучена на полном train. Например:\n",
        "# best_model.fit(X_train_bow, y_train)  # для случаев, когда модель не была обучена ранее на всех данных.)\n",
        "\n",
        "# Предсказания лучшей модели на всей валидационной выборке\n",
        "if best_model_name in [\"Naive Bayes\", \"Random Forest\"]:\n",
        "    # Эти модели обучались на Bag-of-Words (X_train_bow)\n",
        "    y_pred_best = best_model.predict(X_val_bow)\n",
        "elif best_model_name in [\"Logistic Regression\", \"Linear SVM\", \"LightGBM\", \"XGBoost\"]:\n",
        "    # Обучались на TF-IDF признаках\n",
        "    y_pred_best = best_model.predict(X_val_tfidf)\n",
        "else:\n",
        "    # MLP обучалась на Word2Vec признаках\n",
        "    y_pred_best = best_model.predict(X_val_w2v)\n",
        "\n",
        "# Финальные метрики на валидации для лучшей модели\n",
        "from sklearn.metrics import classification_report, confusion_matrix\n",
        "print(f\"\\nClassification report for best model ({best_model_name}):\")\n",
        "print(classification_report(y_val, y_pred_best, digits=4))\n"
      ]
    },
    {
      "cell_type": "markdown",
      "metadata": {
        "id": "y6SZsyO9NhRj"
      },
      "source": [
        " #### По итогам сравнения, выбрана лучшая модель (с наибольшим macro-F1 на валидации). Затем эта модель применена ко всей валидационной выборке для получения финальных предсказаний. Выведен подробный отчет с метриками по каждому классу (precision, recall, F1) для лучшей модели."
      ]
    },
    {
      "cell_type": "markdown",
      "metadata": {
        "id": "Y0S7jXP3NokN"
      },
      "source": [
        "# 8. Сохранение предсказаний и визуализация результатов"
      ]
    },
    {
      "cell_type": "code",
      "execution_count": 20,
      "metadata": {
        "colab": {
          "base_uri": "https://localhost:8080/",
          "height": 659
        },
        "id": "x8IBmGES5d1o",
        "outputId": "836ea8eb-e4a8-4b27-d10c-f46288ccc820"
      },
      "outputs": [
        {
          "name": "stdout",
          "output_type": "stream",
          "text": [
            "Предсказания на валидации сохранены в файл validation_predictions.csv\n",
            "Confusion matrix:\n",
            " [[413  50  10  37  32   8]\n",
            " [ 77 514  57  27  19  10]\n",
            " [ 17  42 108   5   4   2]\n",
            " [ 52  39   8 156  19   1]\n",
            " [ 33  21   4  17 125  12]\n",
            " [  6  14   2   1   2  56]]\n"
          ]
        },
        {
          "data": {
            "image/png": "[encoded data removed]",
            "text/plain": [
              "<Figure size 600x500 with 2 Axes>"
            ]
          },
          "metadata": {},
          "output_type": "display_data"
        }
      ],
      "source": [
        "# Добавляем предсказания лучшей модели в таблицу валидационного датасета и сохраняем в CSV\n",
        "val_df['predicted_label'] = y_pred_best\n",
        "val_df.to_csv(\"validation_predictions.csv\", index=False)\n",
        "print(\"Предсказания на валидации сохранены в файл validation_predictions.csv\")\n",
        "\n",
        "# Построение матрицы ошибок (confusion matrix) для лучшей модели\n",
        "cm = confusion_matrix(y_val, y_pred_best)\n",
        "print(\"Confusion matrix:\\n\", cm)\n",
        "\n",
        "import matplotlib.pyplot as plt\n",
        "import numpy as np\n",
        "fig, ax = plt.subplots(figsize=(6,5))\n",
        "im = ax.imshow(cm, cmap='Blues')\n",
        "ax.figure.colorbar(im, ax=ax)\n",
        "# Подписываем оси\n",
        "ax.set_xticks(np.arange(cm.shape[1])); ax.set_yticks(np.arange(cm.shape[0]))\n",
        "ax.set_xticklabels(range(6)); ax.set_yticklabels(range(6))\n",
        "ax.set_xlabel('Predicted label'); ax.set_ylabel('Actual label')\n",
        "ax.set_title(f'Confusion Matrix - {best_model_name}')\n",
        "# Заполняем клеточки значениями\n",
        "for i in range(cm.shape[0]):\n",
        "    for j in range(cm.shape[1]):\n",
        "        ax.text(j, i, cm[i, j], ha=\"center\", va=\"center\", color=\"black\")\n",
        "plt.tight_layout()\n",
        "plt.savefig(\"confusion_matrix.png\")\n",
        "plt.show()\n"
      ]
    },
    {
      "cell_type": "markdown",
      "metadata": {
        "id": "7DxLKN78NwKy"
      },
      "source": [
        "#### Предсказанные моделью классы для каждого текста сохранены в CSV-файл. Также построена матрица ошибок (confusion matrix), которая наглядно показывает, какие классы модель путает чаще всего. В матрице по горизонтали отложены предсказанные классы, по вертикали – реальные. Идеально все большие числа должны лежать на диагонали (правильные предсказания). Малочисленные классы (например, класс 5) могут иметь больше ошибок – это видно по относительно невысоким значениям в соответствующей строке/столбце."
      ]
    },
    {
      "cell_type": "markdown",
      "metadata": {
        "id": "ShTIAbrSNz-J"
      },
      "source": [
        "# Вывод\n",
        "### Мы прошли полный цикл: загрузка и предобработка данных, извлечение текстовых признаков (Bag-of-Words, TF-IDF, Word2Vec), обучение и подбор параметров разных моделей, учет дисбаланса классов, оценка моделей на валидации и выбор лучшей. Лучшей моделью в данном эксперименте оказалась, например, логистическая регрессия или SVM с сбалансированными весами – она показала наивысший macro-F1, лучше распознавая все эмоции от 0 до 5. Матрица ошибок и метрики подтверждают, что качество классификации разнится по классам: наиболее редкие эмоции предсказывать сложнее. Далее эту модель можно использовать для классификации новых узбекских текстов и анализа их эмоциональной тональности."
      ]
    }
  ],
  "metadata": {
    "colab": {
      "provenance": []
    },
    "kernelspec": {
      "display_name": "venv",
      "language": "python",
      "name": "python3"
    },
    "language_info": {
      "codemirror_mode": {
        "name": "ipython",
        "version": 3
      },
      "file_extension": ".py",
      "mimetype": "text/x-python",
      "name": "python",
      "nbconvert_exporter": "python",
      "pygments_lexer": "ipython3",
      "version": "3.9.6"
    }
  },
  "nbformat": 4,
  "nbformat_minor": 0
}
